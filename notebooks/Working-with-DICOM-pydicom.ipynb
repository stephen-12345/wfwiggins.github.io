{
 "cells": [
  {
   "cell_type": "markdown",
   "metadata": {},
   "source": [
    "# `pydicom`: Working with DICOM files\n",
    "\n",
    "## 1. Import packages\n",
    "\n",
    "As usual, we will begin by importing the appropriate packages for this lesson. In this case, we need `numpy`, `matplotlib.pyplot` and `pydicom`. If you haven't already installed the programs in your `conda` environment, you can do so by uncommenting the lines of code in the cell below to run the shell commands from Jupyter."
   ]
  },
  {
   "cell_type": "code",
   "execution_count": null,
   "metadata": {},
   "outputs": [],
   "source": [
    "# !conda install numpy matplotlib\n",
    "# !conda install -c conda-forge pydicom"
   ]
  },
  {
   "cell_type": "markdown",
   "metadata": {},
   "source": [
    "Keeping with standard convention, we will import `numpy` as `np` and `matplotlib.pyplot` as `plt` to save some keystrokes later. `pydicom` can be imported without renaming.\n",
    "\n",
    "Enter your import code in the cell below."
   ]
  },
  {
   "cell_type": "code",
   "execution_count": null,
   "metadata": {},
   "outputs": [],
   "source": [
    "# enter import code here\n",
    "\n",
    "# IPython \"magic\" to output plots inline\n",
    "%matplotlib inline"
   ]
  },
  {
   "cell_type": "markdown",
   "metadata": {},
   "source": [
    "## 2. Set the path to the example DICOM file\n",
    "\n",
    "The following lines of code import the `os` module (standard modules included in the base Python install) and establish the `DATA_PATH` variable as a path object to the example DICOM file we will use in this lesson. Using `os` ensures that the path will be interpreted appropriately independent of your operating system.\n",
    "\n",
    "We also use a relative path here, because `data` is a subdirectory of the directory from which you should've run the `jupyter notebook` command in your shell."
   ]
  },
  {
   "cell_type": "code",
   "execution_count": null,
   "metadata": {},
   "outputs": [],
   "source": [
    "import os\n",
    "\n",
    "# . is a symbolic link to the working directory, making this a relative path\n",
    "DATA_PATH = os.path.join('.', 'data', 'example.dcm')\n",
    "\n",
    "# also print the DATA_PATH object to see what form it takes on your OS\n",
    "print(DATA_PATH)"
   ]
  },
  {
   "cell_type": "markdown",
   "metadata": {},
   "source": [
    "If you're on a Unix-based OS, you should see something like `./data/example.dcm` in the output above.\n",
    "\n",
    "## 3. Reading a DICOM file with `pydicom`\n",
    "\n",
    "Click the link to go to the `pydicom` API [documentation](https://pydicom.github.io/pydicom/stable/getting_started.html) and figure out which command you need to read the DICOM file. Instead of `filename`, you will enter `DATA_PATH` into the appropriate field."
   ]
  },
  {
   "cell_type": "code",
   "execution_count": null,
   "metadata": {},
   "outputs": [],
   "source": [
    "# enter code here"
   ]
  },
  {
   "cell_type": "markdown",
   "metadata": {},
   "source": [
    "Now we will check out the object type and the DICOM metadata."
   ]
  },
  {
   "cell_type": "code",
   "execution_count": null,
   "metadata": {},
   "outputs": [],
   "source": [
    "print(type(ds), '\\n')\n",
    "print(ds)"
   ]
  },
  {
   "cell_type": "markdown",
   "metadata": {},
   "source": [
    "Next, we will store the pixel data in a `numpy` array and display the image with `plt.imshow()`."
   ]
  },
  {
   "cell_type": "code",
   "execution_count": null,
   "metadata": {},
   "outputs": [],
   "source": [
    "img = ds.pixel_array\n",
    "plt.imshow(img)\n",
    "plt.show()"
   ]
  },
  {
   "cell_type": "markdown",
   "metadata": {},
   "source": [
    "Oops... it looks like we plotted the grayscale image in RGB color format. There are two possible solutions here:\n",
    "1. We could look into the `imshow()` function and see if there's a way we can alter the color map of the output.\n",
    "2. We could use `numpy` to manipulate our array into a better format for an RGB display function."
   ]
  },
  {
   "cell_type": "code",
   "execution_count": null,
   "metadata": {},
   "outputs": [],
   "source": []
  }
 ],
 "metadata": {
  "kernelspec": {
   "display_name": "Python 3",
   "language": "python",
   "name": "python3"
  },
  "language_info": {
   "codemirror_mode": {
    "name": "ipython",
    "version": 3
   },
   "file_extension": ".py",
   "mimetype": "text/x-python",
   "name": "python",
   "nbconvert_exporter": "python",
   "pygments_lexer": "ipython3",
   "version": "3.6.6"
  }
 },
 "nbformat": 4,
 "nbformat_minor": 2
}
